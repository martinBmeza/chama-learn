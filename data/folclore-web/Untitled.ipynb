{
 "cells": [
  {
   "cell_type": "code",
   "execution_count": 1,
   "id": "710b8fbb",
   "metadata": {},
   "outputs": [],
   "source": [
    "import pandas as pd\n",
    "import spotipy\n",
    "from spotipy.oauth2 import SpotifyClientCredentials\n",
    "from bs4 import BeautifulSoup\n",
    "import requests"
   ]
  },
  {
   "cell_type": "code",
   "execution_count": 10,
   "id": "38f8d724",
   "metadata": {},
   "outputs": [],
   "source": [
    "CLIENT_ID = '3f31caad57714e6793bce1fcb3d3204f'\n",
    "CLIENT_SECRET = 'ea5fd0ab8b6f484b88259b598443d094'\n",
    "\n",
    "AUTH_URL = 'https://accounts.spotify.com/api/token'\n",
    "\n",
    "# POST\n",
    "auth_response = requests.post(AUTH_URL, {\n",
    "    'grant_type': 'client_credentials',\n",
    "    'client_id': CLIENT_ID,\n",
    "    'client_secret': CLIENT_SECRET,\n",
    "})\n",
    "\n",
    "# convert the response to JSON\n",
    "auth_response_data = auth_response.json()\n",
    "\n",
    "# save the access token\n",
    "access_token = auth_response_data['access_token']"
   ]
  },
  {
   "cell_type": "code",
   "execution_count": null,
   "id": "a8ec72ff",
   "metadata": {},
   "outputs": [],
   "source": []
  }
 ],
 "metadata": {
  "kernelspec": {
   "display_name": "Python 3",
   "language": "python",
   "name": "python3"
  },
  "language_info": {
   "codemirror_mode": {
    "name": "ipython",
    "version": 3
   },
   "file_extension": ".py",
   "mimetype": "text/x-python",
   "name": "python",
   "nbconvert_exporter": "python",
   "pygments_lexer": "ipython3",
   "version": "3.8.8"
  }
 },
 "nbformat": 4,
 "nbformat_minor": 5
}

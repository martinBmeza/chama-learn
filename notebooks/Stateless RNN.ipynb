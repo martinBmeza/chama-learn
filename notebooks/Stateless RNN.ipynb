{
 "cells": [
  {
   "cell_type": "code",
   "execution_count": 1,
   "id": "884f520f",
   "metadata": {},
   "outputs": [
    {
     "name": "stderr",
     "output_type": "stream",
     "text": [
      "2021-08-16 20:55:04.044258: I tensorflow/stream_executor/platform/default/dso_loader.cc:53] Successfully opened dynamic library libcudart.so.11.0\n"
     ]
    }
   ],
   "source": [
    "import sys\n",
    "sys.path.append('../')\n",
    "from data.dataset import *\n",
    "from evaluate import *\n",
    "import tensorflow as tf\n",
    "import tensorflow.keras.layers as tfkl\n",
    "from tensorflow.keras.layers.experimental import preprocessing\n",
    "import numpy as np\n",
    "import os\n",
    "import time"
   ]
  },
  {
   "cell_type": "markdown",
   "id": "d6c1e2b2",
   "metadata": {},
   "source": [
    "Cargo el dataset de texto y le aplico las transformaciones para poder usarlo para entrenar"
   ]
  },
  {
   "cell_type": "code",
   "execution_count": 2,
   "id": "d5dd437b",
   "metadata": {},
   "outputs": [
    {
     "name": "stderr",
     "output_type": "stream",
     "text": [
      "2021-08-16 20:55:05.880958: I tensorflow/stream_executor/platform/default/dso_loader.cc:53] Successfully opened dynamic library libcuda.so.1\n",
      "2021-08-16 20:55:05.926013: I tensorflow/stream_executor/cuda/cuda_gpu_executor.cc:937] successful NUMA node read from SysFS had negative value (-1), but there must be at least one NUMA node, so returning NUMA node zero\n",
      "2021-08-16 20:55:05.926239: I tensorflow/core/common_runtime/gpu/gpu_device.cc:1733] Found device 0 with properties: \n",
      "pciBusID: 0000:01:00.0 name: NVIDIA GeForce GTX 1060 6GB computeCapability: 6.1\n",
      "coreClock: 1.7715GHz coreCount: 10 deviceMemorySize: 5.93GiB deviceMemoryBandwidth: 178.99GiB/s\n",
      "2021-08-16 20:55:05.926255: I tensorflow/stream_executor/platform/default/dso_loader.cc:53] Successfully opened dynamic library libcudart.so.11.0\n",
      "2021-08-16 20:55:05.928952: I tensorflow/stream_executor/platform/default/dso_loader.cc:53] Successfully opened dynamic library libcublas.so.11\n",
      "2021-08-16 20:55:05.928976: I tensorflow/stream_executor/platform/default/dso_loader.cc:53] Successfully opened dynamic library libcublasLt.so.11\n",
      "2021-08-16 20:55:05.930320: I tensorflow/stream_executor/platform/default/dso_loader.cc:53] Successfully opened dynamic library libcufft.so.10\n",
      "2021-08-16 20:55:05.930513: I tensorflow/stream_executor/platform/default/dso_loader.cc:53] Successfully opened dynamic library libcurand.so.10\n",
      "2021-08-16 20:55:05.930868: I tensorflow/stream_executor/platform/default/dso_loader.cc:53] Successfully opened dynamic library libcusolver.so.11\n",
      "2021-08-16 20:55:05.931474: I tensorflow/stream_executor/platform/default/dso_loader.cc:53] Successfully opened dynamic library libcusparse.so.11\n",
      "2021-08-16 20:55:05.931568: I tensorflow/stream_executor/platform/default/dso_loader.cc:53] Successfully opened dynamic library libcudnn.so.8\n",
      "2021-08-16 20:55:05.931639: I tensorflow/stream_executor/cuda/cuda_gpu_executor.cc:937] successful NUMA node read from SysFS had negative value (-1), but there must be at least one NUMA node, so returning NUMA node zero\n",
      "2021-08-16 20:55:05.931890: I tensorflow/stream_executor/cuda/cuda_gpu_executor.cc:937] successful NUMA node read from SysFS had negative value (-1), but there must be at least one NUMA node, so returning NUMA node zero\n",
      "2021-08-16 20:55:05.932086: I tensorflow/core/common_runtime/gpu/gpu_device.cc:1871] Adding visible gpu devices: 0\n",
      "2021-08-16 20:55:05.932724: I tensorflow/core/platform/cpu_feature_guard.cc:142] This TensorFlow binary is optimized with oneAPI Deep Neural Network Library (oneDNN) to use the following CPU instructions in performance-critical operations:  AVX2 FMA\n",
      "To enable them in other operations, rebuild TensorFlow with the appropriate compiler flags.\n",
      "2021-08-16 20:55:05.933140: I tensorflow/stream_executor/cuda/cuda_gpu_executor.cc:937] successful NUMA node read from SysFS had negative value (-1), but there must be at least one NUMA node, so returning NUMA node zero\n",
      "2021-08-16 20:55:05.933347: I tensorflow/core/common_runtime/gpu/gpu_device.cc:1733] Found device 0 with properties: \n",
      "pciBusID: 0000:01:00.0 name: NVIDIA GeForce GTX 1060 6GB computeCapability: 6.1\n",
      "coreClock: 1.7715GHz coreCount: 10 deviceMemorySize: 5.93GiB deviceMemoryBandwidth: 178.99GiB/s\n",
      "2021-08-16 20:55:05.933390: I tensorflow/stream_executor/cuda/cuda_gpu_executor.cc:937] successful NUMA node read from SysFS had negative value (-1), but there must be at least one NUMA node, so returning NUMA node zero\n",
      "2021-08-16 20:55:05.933609: I tensorflow/stream_executor/cuda/cuda_gpu_executor.cc:937] successful NUMA node read from SysFS had negative value (-1), but there must be at least one NUMA node, so returning NUMA node zero\n",
      "2021-08-16 20:55:05.933804: I tensorflow/core/common_runtime/gpu/gpu_device.cc:1871] Adding visible gpu devices: 0\n",
      "2021-08-16 20:55:05.933825: I tensorflow/stream_executor/platform/default/dso_loader.cc:53] Successfully opened dynamic library libcudart.so.11.0\n",
      "2021-08-16 20:55:06.269582: I tensorflow/core/common_runtime/gpu/gpu_device.cc:1258] Device interconnect StreamExecutor with strength 1 edge matrix:\n",
      "2021-08-16 20:55:06.269605: I tensorflow/core/common_runtime/gpu/gpu_device.cc:1264]      0 \n",
      "2021-08-16 20:55:06.269610: I tensorflow/core/common_runtime/gpu/gpu_device.cc:1277] 0:   N \n",
      "2021-08-16 20:55:06.269764: I tensorflow/stream_executor/cuda/cuda_gpu_executor.cc:937] successful NUMA node read from SysFS had negative value (-1), but there must be at least one NUMA node, so returning NUMA node zero\n",
      "2021-08-16 20:55:06.270010: I tensorflow/stream_executor/cuda/cuda_gpu_executor.cc:937] successful NUMA node read from SysFS had negative value (-1), but there must be at least one NUMA node, so returning NUMA node zero\n",
      "2021-08-16 20:55:06.270224: I tensorflow/stream_executor/cuda/cuda_gpu_executor.cc:937] successful NUMA node read from SysFS had negative value (-1), but there must be at least one NUMA node, so returning NUMA node zero\n",
      "2021-08-16 20:55:06.270422: I tensorflow/core/common_runtime/gpu/gpu_device.cc:1418] Created TensorFlow device (/job:localhost/replica:0/task:0/device:GPU:0 with 4617 MB memory) -> physical GPU (device: 0, name: NVIDIA GeForce GTX 1060 6GB, pci bus id: 0000:01:00.0, compute capability: 6.1)\n"
     ]
    }
   ],
   "source": [
    "path_to_file = '../data/chamame-web/txts/chamame_dataset.txt'\n",
    "\n",
    "encoded_data, max_id, tokenizer = dataset_pre(path_to_file)\n",
    "train_set, val_set = dataset_split(encoded_data, train_s = 90)\n",
    "data_train = window_sequence(train_set, 50, 32, max_id, 1)\n",
    "data_val = window_sequence(val_set, 100, 32, max_id, 512)"
   ]
  },
  {
   "cell_type": "markdown",
   "id": "fdf91c3d",
   "metadata": {},
   "source": [
    "Defino el modelo stateless. El recurrent drop out lo dejo en cero para evitar el warning de cuda"
   ]
  },
  {
   "cell_type": "code",
   "execution_count": 3,
   "id": "2d1d2e10",
   "metadata": {},
   "outputs": [],
   "source": [
    "tf.keras.backend.clear_session()\n",
    "\n",
    "entrada = tfkl.Input((None, max_id), name='ENTRADA')\n",
    "\n",
    "capa_rec = tfkl.GRU(128, return_sequences=True, input_shape=[None, max_id],dropout=0.2, recurrent_dropout=0)(entrada)\n",
    "capa_rec = tfkl.GRU(128, return_sequences=True, dropout=0.2, recurrent_dropout=0)(capa_rec)\n",
    "\n",
    "salida = tfkl.TimeDistributed(tfkl.Dense(max_id, activation=\"softmax\"))(capa_rec)\n",
    "\n",
    "model = tf.keras.Model(inputs=[entrada], outputs=[salida])\n",
    "model.compile(loss=\"sparse_categorical_crossentropy\", optimizer=\"adam\")\n"
   ]
  },
  {
   "cell_type": "markdown",
   "id": "66359c3e",
   "metadata": {},
   "source": [
    "Entrenamiento"
   ]
  },
  {
   "cell_type": "code",
   "execution_count": 4,
   "id": "189ee6b2",
   "metadata": {},
   "outputs": [
    {
     "name": "stderr",
     "output_type": "stream",
     "text": [
      "2021-08-16 20:55:10.992008: I tensorflow/compiler/mlir/mlir_graph_optimization_pass.cc:176] None of the MLIR Optimization Passes are enabled (registered 2)\n",
      "2021-08-16 20:55:11.009904: I tensorflow/core/platform/profile_utils/cpu_utils.cc:114] CPU Frequency: 3199980000 Hz\n"
     ]
    },
    {
     "name": "stdout",
     "output_type": "stream",
     "text": [
      "Epoch 1/50\n"
     ]
    },
    {
     "name": "stderr",
     "output_type": "stream",
     "text": [
      "2021-08-16 20:55:14.212083: I tensorflow/stream_executor/platform/default/dso_loader.cc:53] Successfully opened dynamic library libcudnn.so.8\n",
      "2021-08-16 20:55:14.474914: I tensorflow/stream_executor/cuda/cuda_dnn.cc:359] Loaded cuDNN version 8202\n",
      "2021-08-16 20:55:14.573926: I tensorflow/stream_executor/platform/default/dso_loader.cc:53] Successfully opened dynamic library libcublas.so.11\n"
     ]
    },
    {
     "name": "stdout",
     "output_type": "stream",
     "text": [
      "     11/Unknown - 4s 6ms/step - loss: 3.6264"
     ]
    },
    {
     "name": "stderr",
     "output_type": "stream",
     "text": [
      "2021-08-16 20:55:14.761941: I tensorflow/stream_executor/platform/default/dso_loader.cc:53] Successfully opened dynamic library libcublasLt.so.11\n"
     ]
    },
    {
     "name": "stdout",
     "output_type": "stream",
     "text": [
      "1248/1248 [==============================] - 15s 9ms/step - loss: 2.1515\n",
      "Epoch 2/50\n",
      "1248/1248 [==============================] - 13s 9ms/step - loss: 1.7881\n",
      "Epoch 3/50\n",
      "1248/1248 [==============================] - 12s 8ms/step - loss: 1.6527\n",
      "Epoch 4/50\n",
      "1248/1248 [==============================] - 13s 9ms/step - loss: 1.5622\n",
      "Epoch 5/50\n",
      "1248/1248 [==============================] - 12s 8ms/step - loss: 1.4996\n",
      "Epoch 6/50\n",
      "1248/1248 [==============================] - 14s 10ms/step - loss: 1.4491\n",
      "Epoch 7/50\n",
      "1248/1248 [==============================] - 14s 10ms/step - loss: 1.4093\n",
      "Epoch 8/50\n",
      "1248/1248 [==============================] - 14s 10ms/step - loss: 1.3772\n",
      "Epoch 9/50\n",
      "1248/1248 [==============================] - 12s 8ms/step - loss: 1.3520\n",
      "Epoch 10/50\n",
      "1248/1248 [==============================] - 13s 9ms/step - loss: 1.3273\n",
      "Epoch 11/50\n",
      "1248/1248 [==============================] - 13s 9ms/step - loss: 1.3081\n",
      "Epoch 12/50\n",
      "1248/1248 [==============================] - 14s 10ms/step - loss: 1.2907\n",
      "Epoch 13/50\n",
      "1248/1248 [==============================] - 13s 9ms/step - loss: 1.2736\n",
      "Epoch 14/50\n",
      "1248/1248 [==============================] - 14s 10ms/step - loss: 1.2586\n",
      "Epoch 15/50\n",
      "1248/1248 [==============================] - 13s 9ms/step - loss: 1.2456\n",
      "Epoch 16/50\n",
      "1248/1248 [==============================] - 13s 9ms/step - loss: 1.2370\n",
      "Epoch 17/50\n",
      "1248/1248 [==============================] - 13s 9ms/step - loss: 1.2262\n",
      "Epoch 18/50\n",
      "1248/1248 [==============================] - 14s 10ms/step - loss: 1.2165\n",
      "Epoch 19/50\n",
      "1248/1248 [==============================] - 14s 9ms/step - loss: 1.2060\n",
      "Epoch 20/50\n",
      "1248/1248 [==============================] - 13s 9ms/step - loss: 1.2004\n",
      "Epoch 21/50\n",
      "1248/1248 [==============================] - 14s 9ms/step - loss: 1.1909\n",
      "Epoch 22/50\n",
      "1248/1248 [==============================] - 14s 10ms/step - loss: 1.1816\n",
      "Epoch 23/50\n",
      "1248/1248 [==============================] - 13s 9ms/step - loss: 1.1774\n",
      "Epoch 24/50\n",
      "1248/1248 [==============================] - 14s 10ms/step - loss: 1.1704\n",
      "Epoch 25/50\n",
      "1248/1248 [==============================] - 13s 9ms/step - loss: 1.1635\n",
      "Epoch 26/50\n",
      "1248/1248 [==============================] - 13s 9ms/step - loss: 1.1588\n",
      "Epoch 27/50\n",
      "1248/1248 [==============================] - 13s 9ms/step - loss: 1.1521\n",
      "Epoch 28/50\n",
      "1248/1248 [==============================] - 13s 9ms/step - loss: 1.1497\n",
      "Epoch 29/50\n",
      "1248/1248 [==============================] - 13s 9ms/step - loss: 1.1456\n",
      "Epoch 30/50\n",
      "1248/1248 [==============================] - 13s 9ms/step - loss: 1.1402\n",
      "Epoch 31/50\n",
      "1248/1248 [==============================] - 13s 9ms/step - loss: 1.1366\n",
      "Epoch 32/50\n",
      "1248/1248 [==============================] - 12s 8ms/step - loss: 1.1317\n",
      "Epoch 33/50\n",
      "1248/1248 [==============================] - 13s 9ms/step - loss: 1.1259\n",
      "Epoch 34/50\n",
      "1248/1248 [==============================] - 13s 9ms/step - loss: 1.1244\n",
      "Epoch 35/50\n",
      "1248/1248 [==============================] - 13s 9ms/step - loss: 1.1181\n",
      "Epoch 36/50\n",
      "1248/1248 [==============================] - 12s 9ms/step - loss: 1.1151\n",
      "Epoch 37/50\n",
      "1248/1248 [==============================] - 13s 9ms/step - loss: 1.1125\n",
      "Epoch 38/50\n",
      "1248/1248 [==============================] - 14s 9ms/step - loss: 1.1079\n",
      "Epoch 39/50\n",
      "1248/1248 [==============================] - 13s 9ms/step - loss: 1.1047\n",
      "Epoch 40/50\n",
      "1248/1248 [==============================] - 13s 9ms/step - loss: 1.1029\n",
      "Epoch 41/50\n",
      "1248/1248 [==============================] - 13s 9ms/step - loss: 1.1012\n",
      "Epoch 42/50\n",
      "1248/1248 [==============================] - 12s 9ms/step - loss: 1.0988\n",
      "Epoch 43/50\n",
      "1248/1248 [==============================] - 13s 9ms/step - loss: 1.0929\n",
      "Epoch 44/50\n",
      "1248/1248 [==============================] - 13s 9ms/step - loss: 1.0909\n",
      "Epoch 45/50\n",
      "1248/1248 [==============================] - 13s 9ms/step - loss: 1.0916\n",
      "Epoch 46/50\n",
      "1248/1248 [==============================] - 11s 7ms/step - loss: 1.0875\n",
      "Epoch 47/50\n",
      "1248/1248 [==============================] - 12s 8ms/step - loss: 1.0830\n",
      "Epoch 48/50\n",
      "1248/1248 [==============================] - 13s 9ms/step - loss: 1.0820\n",
      "Epoch 49/50\n",
      "1248/1248 [==============================] - 12s 8ms/step - loss: 1.0797\n",
      "Epoch 50/50\n",
      "1248/1248 [==============================] - 12s 8ms/step - loss: 1.0759\n"
     ]
    }
   ],
   "source": [
    "history = model.fit(data_train, epochs=50)"
   ]
  },
  {
   "cell_type": "code",
   "execution_count": 8,
   "id": "49359150",
   "metadata": {},
   "outputs": [],
   "source": [
    "model.save_weights('pesos.hdf5')"
   ]
  },
  {
   "cell_type": "markdown",
   "id": "122bf12b",
   "metadata": {},
   "source": [
    "Hago predicciones a partir del modelo entrenado"
   ]
  },
  {
   "cell_type": "code",
   "execution_count": 9,
   "id": "fe0cbbee",
   "metadata": {},
   "outputs": [],
   "source": [
    "model.load_weights('pesos.hdf5')"
   ]
  },
  {
   "cell_type": "code",
   "execution_count": 19,
   "id": "a817a10d",
   "metadata": {},
   "outputs": [
    {
     "name": "stdout",
     "output_type": "stream",
     "text": [
      "a su para del caraná. \n",
      "\n",
      "\n",
      "tomador de mi provincia \n",
      "porá la luna, candor de niña. \n",
      "\n",
      "\n",
      "para morir, \n",
      "y apagar por esta aquel alega \n",
      "por un vino la losa añoso, bosquejo en las ojos \n",
      "canoó de mi provincia \n",
      "po\n"
     ]
    }
   ],
   "source": [
    "print(complete_text(model, \"a\", tokenizer, n_chars=200, temperature=0.45))"
   ]
  },
  {
   "cell_type": "code",
   "execution_count": null,
   "id": "6f6e208f",
   "metadata": {},
   "outputs": [],
   "source": []
  }
 ],
 "metadata": {
  "kernelspec": {
   "display_name": "Python 3 (ipykernel)",
   "language": "python",
   "name": "python3"
  },
  "language_info": {
   "codemirror_mode": {
    "name": "ipython",
    "version": 3
   },
   "file_extension": ".py",
   "mimetype": "text/x-python",
   "name": "python",
   "nbconvert_exporter": "python",
   "pygments_lexer": "ipython3",
   "version": "3.8.10"
  }
 },
 "nbformat": 4,
 "nbformat_minor": 5
}

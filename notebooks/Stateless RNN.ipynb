{
 "cells": [
  {
   "cell_type": "code",
   "execution_count": 1,
   "id": "ab4c1a82",
   "metadata": {},
   "outputs": [
    {
     "name": "stderr",
     "output_type": "stream",
     "text": [
      "2021-08-16 19:44:53.639933: I tensorflow/stream_executor/platform/default/dso_loader.cc:53] Successfully opened dynamic library libcudart.so.11.0\n"
     ]
    }
   ],
   "source": [
    "import sys\n",
    "sys.path.append('../')\n",
    "from data.dataset import *\n",
    "from evaluate import *\n",
    "import tensorflow as tf\n",
    "import tensorflow.keras.layers as tfkl\n",
    "from tensorflow.keras.layers.experimental import preprocessing\n",
    "import numpy as np\n",
    "import os\n",
    "import time"
   ]
  },
  {
   "cell_type": "markdown",
   "id": "f24abe10",
   "metadata": {},
   "source": [
    "Cargo el dataset de texto y le aplico las transformaciones para poder usarlo para entrenar"
   ]
  },
  {
   "cell_type": "code",
   "execution_count": 2,
   "id": "2e89abc6",
   "metadata": {
    "collapsed": true
   },
   "outputs": [
    {
     "name": "stderr",
     "output_type": "stream",
     "text": [
      "2021-08-16 19:44:54.381836: I tensorflow/stream_executor/platform/default/dso_loader.cc:53] Successfully opened dynamic library libcuda.so.1\n",
      "2021-08-16 19:44:54.423851: I tensorflow/stream_executor/cuda/cuda_gpu_executor.cc:937] successful NUMA node read from SysFS had negative value (-1), but there must be at least one NUMA node, so returning NUMA node zero\n",
      "2021-08-16 19:44:54.424080: I tensorflow/core/common_runtime/gpu/gpu_device.cc:1733] Found device 0 with properties: \n",
      "pciBusID: 0000:01:00.0 name: NVIDIA GeForce GTX 1060 6GB computeCapability: 6.1\n",
      "coreClock: 1.7715GHz coreCount: 10 deviceMemorySize: 5.93GiB deviceMemoryBandwidth: 178.99GiB/s\n",
      "2021-08-16 19:44:54.424096: I tensorflow/stream_executor/platform/default/dso_loader.cc:53] Successfully opened dynamic library libcudart.so.11.0\n",
      "2021-08-16 19:44:54.426870: I tensorflow/stream_executor/platform/default/dso_loader.cc:53] Successfully opened dynamic library libcublas.so.11\n",
      "2021-08-16 19:44:54.426895: I tensorflow/stream_executor/platform/default/dso_loader.cc:53] Successfully opened dynamic library libcublasLt.so.11\n",
      "2021-08-16 19:44:54.428233: I tensorflow/stream_executor/platform/default/dso_loader.cc:53] Successfully opened dynamic library libcufft.so.10\n",
      "2021-08-16 19:44:54.428412: I tensorflow/stream_executor/platform/default/dso_loader.cc:53] Successfully opened dynamic library libcurand.so.10\n",
      "2021-08-16 19:44:54.428769: I tensorflow/stream_executor/platform/default/dso_loader.cc:53] Successfully opened dynamic library libcusolver.so.11\n",
      "2021-08-16 19:44:54.429383: I tensorflow/stream_executor/platform/default/dso_loader.cc:53] Successfully opened dynamic library libcusparse.so.11\n",
      "2021-08-16 19:44:54.429475: I tensorflow/stream_executor/platform/default/dso_loader.cc:53] Successfully opened dynamic library libcudnn.so.8\n",
      "2021-08-16 19:44:54.429542: I tensorflow/stream_executor/cuda/cuda_gpu_executor.cc:937] successful NUMA node read from SysFS had negative value (-1), but there must be at least one NUMA node, so returning NUMA node zero\n",
      "2021-08-16 19:44:54.429833: I tensorflow/stream_executor/cuda/cuda_gpu_executor.cc:937] successful NUMA node read from SysFS had negative value (-1), but there must be at least one NUMA node, so returning NUMA node zero\n",
      "2021-08-16 19:44:54.430032: I tensorflow/core/common_runtime/gpu/gpu_device.cc:1871] Adding visible gpu devices: 0\n",
      "2021-08-16 19:44:54.430352: I tensorflow/core/platform/cpu_feature_guard.cc:142] This TensorFlow binary is optimized with oneAPI Deep Neural Network Library (oneDNN) to use the following CPU instructions in performance-critical operations:  AVX2 FMA\n",
      "To enable them in other operations, rebuild TensorFlow with the appropriate compiler flags.\n",
      "2021-08-16 19:44:54.431039: I tensorflow/stream_executor/cuda/cuda_gpu_executor.cc:937] successful NUMA node read from SysFS had negative value (-1), but there must be at least one NUMA node, so returning NUMA node zero\n",
      "2021-08-16 19:44:54.431263: I tensorflow/core/common_runtime/gpu/gpu_device.cc:1733] Found device 0 with properties: \n",
      "pciBusID: 0000:01:00.0 name: NVIDIA GeForce GTX 1060 6GB computeCapability: 6.1\n",
      "coreClock: 1.7715GHz coreCount: 10 deviceMemorySize: 5.93GiB deviceMemoryBandwidth: 178.99GiB/s\n",
      "2021-08-16 19:44:54.431306: I tensorflow/stream_executor/cuda/cuda_gpu_executor.cc:937] successful NUMA node read from SysFS had negative value (-1), but there must be at least one NUMA node, so returning NUMA node zero\n",
      "2021-08-16 19:44:54.431528: I tensorflow/stream_executor/cuda/cuda_gpu_executor.cc:937] successful NUMA node read from SysFS had negative value (-1), but there must be at least one NUMA node, so returning NUMA node zero\n",
      "2021-08-16 19:44:54.431719: I tensorflow/core/common_runtime/gpu/gpu_device.cc:1871] Adding visible gpu devices: 0\n",
      "2021-08-16 19:44:54.431740: I tensorflow/stream_executor/platform/default/dso_loader.cc:53] Successfully opened dynamic library libcudart.so.11.0\n",
      "2021-08-16 19:44:54.777278: I tensorflow/core/common_runtime/gpu/gpu_device.cc:1258] Device interconnect StreamExecutor with strength 1 edge matrix:\n",
      "2021-08-16 19:44:54.777315: I tensorflow/core/common_runtime/gpu/gpu_device.cc:1264]      0 \n",
      "2021-08-16 19:44:54.777321: I tensorflow/core/common_runtime/gpu/gpu_device.cc:1277] 0:   N \n",
      "2021-08-16 19:44:54.777454: I tensorflow/stream_executor/cuda/cuda_gpu_executor.cc:937] successful NUMA node read from SysFS had negative value (-1), but there must be at least one NUMA node, so returning NUMA node zero\n",
      "2021-08-16 19:44:54.777740: I tensorflow/stream_executor/cuda/cuda_gpu_executor.cc:937] successful NUMA node read from SysFS had negative value (-1), but there must be at least one NUMA node, so returning NUMA node zero\n",
      "2021-08-16 19:44:54.777980: I tensorflow/stream_executor/cuda/cuda_gpu_executor.cc:937] successful NUMA node read from SysFS had negative value (-1), but there must be at least one NUMA node, so returning NUMA node zero\n",
      "2021-08-16 19:44:54.778187: I tensorflow/core/common_runtime/gpu/gpu_device.cc:1418] Created TensorFlow device (/job:localhost/replica:0/task:0/device:GPU:0 with 4862 MB memory) -> physical GPU (device: 0, name: NVIDIA GeForce GTX 1060 6GB, pci bus id: 0000:01:00.0, compute capability: 6.1)\n"
     ]
    }
   ],
   "source": [
    "path_to_file = '../data/txts/chamame_dataset.txt'\n",
    "\n",
    "encoded_data, max_id, tokenizer = dataset_pre(path_to_file)\n",
    "train_set, val_set = dataset_split(encoded_data, train_s = 90)\n",
    "data_train = window_sequence(train_set, 100, 32, max_id, 1)\n",
    "data_val = window_sequence(val_set, 100, 32, max_id, 512)"
   ]
  },
  {
   "cell_type": "markdown",
   "id": "fc86e92c",
   "metadata": {},
   "source": [
    "Defino el modelo stateless. El recurrent drop out lo dejo en cero para evitar el warning de cuda"
   ]
  },
  {
   "cell_type": "code",
   "execution_count": 3,
   "id": "f234d494",
   "metadata": {},
   "outputs": [],
   "source": [
    "tf.keras.backend.clear_session()\n",
    "\n",
    "entrada = tfkl.Input((None, max_id), name='ENTRADA')\n",
    "\n",
    "capa_rec = tfkl.GRU(128, return_sequences=True, input_shape=[None, max_id],dropout=0.2, recurrent_dropout=0)(entrada)\n",
    "capa_rec = tfkl.GRU(128, return_sequences=True, dropout=0.2, recurrent_dropout=0)(capa_rec)\n",
    "\n",
    "salida = tfkl.TimeDistributed(tfkl.Dense(max_id, activation=\"softmax\"))(capa_rec)\n",
    "\n",
    "model = tf.keras.Model(inputs=[entrada], outputs=[salida])\n",
    "model.compile(loss=\"sparse_categorical_crossentropy\", optimizer=\"adam\")\n"
   ]
  },
  {
   "cell_type": "markdown",
   "id": "20877339",
   "metadata": {},
   "source": [
    "Entrenamiento"
   ]
  },
  {
   "cell_type": "code",
   "execution_count": 4,
   "id": "2826efee",
   "metadata": {},
   "outputs": [
    {
     "name": "stderr",
     "output_type": "stream",
     "text": [
      "2021-08-16 19:44:55.285019: I tensorflow/compiler/mlir/mlir_graph_optimization_pass.cc:176] None of the MLIR Optimization Passes are enabled (registered 2)\n",
      "2021-08-16 19:44:55.301968: I tensorflow/core/platform/profile_utils/cpu_utils.cc:114] CPU Frequency: 3199980000 Hz\n"
     ]
    },
    {
     "name": "stdout",
     "output_type": "stream",
     "text": [
      "Epoch 1/50\n"
     ]
    },
    {
     "name": "stderr",
     "output_type": "stream",
     "text": [
      "2021-08-16 19:44:59.323332: I tensorflow/stream_executor/platform/default/dso_loader.cc:53] Successfully opened dynamic library libcudnn.so.8\n",
      "2021-08-16 19:44:59.587826: I tensorflow/stream_executor/cuda/cuda_dnn.cc:359] Loaded cuDNN version 8202\n",
      "2021-08-16 19:44:59.687399: I tensorflow/stream_executor/platform/default/dso_loader.cc:53] Successfully opened dynamic library libcublas.so.11\n"
     ]
    },
    {
     "name": "stdout",
     "output_type": "stream",
     "text": [
      "      7/Unknown - 5s 10ms/step - loss: 3.7330"
     ]
    },
    {
     "name": "stderr",
     "output_type": "stream",
     "text": [
      "2021-08-16 19:44:59.876482: I tensorflow/stream_executor/platform/default/dso_loader.cc:53] Successfully opened dynamic library libcublasLt.so.11\n"
     ]
    },
    {
     "name": "stdout",
     "output_type": "stream",
     "text": [
      "1247/1247 [==============================] - 19s 11ms/step - loss: 2.0977\n",
      "Epoch 2/50\n",
      "1247/1247 [==============================] - 15s 10ms/step - loss: 1.6827\n",
      "Epoch 3/50\n",
      "1247/1247 [==============================] - 16s 11ms/step - loss: 1.5191\n",
      "Epoch 4/50\n",
      "1247/1247 [==============================] - 18s 12ms/step - loss: 1.4182\n",
      "Epoch 5/50\n",
      "1247/1247 [==============================] - 17s 12ms/step - loss: 1.3475\n",
      "Epoch 6/50\n",
      "1247/1247 [==============================] - 17s 11ms/step - loss: 1.2948\n",
      "Epoch 7/50\n",
      "1247/1247 [==============================] - 17s 11ms/step - loss: 1.2525\n",
      "Epoch 8/50\n",
      "1247/1247 [==============================] - 18s 12ms/step - loss: 1.2186\n",
      "Epoch 9/50\n",
      "1247/1247 [==============================] - 17s 12ms/step - loss: 1.1913\n",
      "Epoch 10/50\n",
      "1247/1247 [==============================] - 16s 11ms/step - loss: 1.1688\n",
      "Epoch 11/50\n",
      "1247/1247 [==============================] - 20s 14ms/step - loss: 1.1475\n",
      "Epoch 12/50\n",
      "1247/1247 [==============================] - 19s 14ms/step - loss: 1.1284\n",
      "Epoch 13/50\n",
      "1247/1247 [==============================] - 19s 13ms/step - loss: 1.1130\n",
      "Epoch 14/50\n",
      "1247/1247 [==============================] - 20s 14ms/step - loss: 1.0996\n",
      "Epoch 15/50\n",
      "1247/1247 [==============================] - 19s 13ms/step - loss: 1.0861\n",
      "Epoch 16/50\n",
      "1247/1247 [==============================] - 20s 14ms/step - loss: 1.0735\n",
      "Epoch 17/50\n",
      "1247/1247 [==============================] - 19s 13ms/step - loss: 1.0646\n",
      "Epoch 18/50\n",
      "1247/1247 [==============================] - 20s 14ms/step - loss: 1.0526\n",
      "Epoch 19/50\n",
      "1247/1247 [==============================] - 18s 13ms/step - loss: 1.0427\n",
      "Epoch 20/50\n",
      "1247/1247 [==============================] - 19s 13ms/step - loss: 1.0343\n",
      "Epoch 21/50\n",
      "1247/1247 [==============================] - 20s 14ms/step - loss: 1.0258\n",
      "Epoch 22/50\n",
      "1247/1247 [==============================] - 19s 13ms/step - loss: 1.0194\n",
      "Epoch 23/50\n",
      "1247/1247 [==============================] - 21s 15ms/step - loss: 1.0147\n",
      "Epoch 24/50\n",
      "1247/1247 [==============================] - 17s 12ms/step - loss: 1.0057\n",
      "Epoch 25/50\n",
      "1247/1247 [==============================] - 16s 11ms/step - loss: 0.9997\n",
      "Epoch 26/50\n",
      "1247/1247 [==============================] - 14s 9ms/step - loss: 0.9946\n",
      "Epoch 27/50\n",
      "1247/1247 [==============================] - 16s 11ms/step - loss: 0.9898\n",
      "Epoch 28/50\n",
      "1247/1247 [==============================] - 18s 12ms/step - loss: 0.9847\n",
      "Epoch 29/50\n",
      "1247/1247 [==============================] - 17s 11ms/step - loss: 0.9792\n",
      "Epoch 30/50\n",
      "1247/1247 [==============================] - 15s 10ms/step - loss: 0.9750\n",
      "Epoch 31/50\n",
      "1247/1247 [==============================] - 18s 12ms/step - loss: 0.9696\n",
      "Epoch 32/50\n",
      "1247/1247 [==============================] - 18s 13ms/step - loss: 0.9657\n",
      "Epoch 33/50\n",
      "1247/1247 [==============================] - 19s 13ms/step - loss: 0.9610\n",
      "Epoch 34/50\n",
      "1247/1247 [==============================] - 20s 14ms/step - loss: 0.9572\n",
      "Epoch 35/50\n",
      "1247/1247 [==============================] - 20s 14ms/step - loss: 0.9523\n",
      "Epoch 36/50\n",
      "1247/1247 [==============================] - 19s 13ms/step - loss: 0.9495\n",
      "Epoch 37/50\n",
      "1247/1247 [==============================] - 20s 14ms/step - loss: 0.9457\n",
      "Epoch 38/50\n",
      "1247/1247 [==============================] - 20s 14ms/step - loss: 0.9440\n",
      "Epoch 39/50\n",
      "1247/1247 [==============================] - 19s 13ms/step - loss: 0.9389\n",
      "Epoch 40/50\n",
      "1247/1247 [==============================] - 17s 12ms/step - loss: 0.9348\n",
      "Epoch 41/50\n",
      "1247/1247 [==============================] - 18s 12ms/step - loss: 0.9343\n",
      "Epoch 42/50\n",
      "1247/1247 [==============================] - 18s 13ms/step - loss: 0.9288\n",
      "Epoch 43/50\n",
      "1247/1247 [==============================] - 20s 14ms/step - loss: 0.9259\n",
      "Epoch 44/50\n",
      "1247/1247 [==============================] - 20s 14ms/step - loss: 0.9242\n",
      "Epoch 45/50\n",
      "1247/1247 [==============================] - 19s 13ms/step - loss: 0.9208\n",
      "Epoch 46/50\n",
      "1247/1247 [==============================] - 19s 13ms/step - loss: 0.9185\n",
      "Epoch 47/50\n",
      "1247/1247 [==============================] - 18s 13ms/step - loss: 0.9153\n",
      "Epoch 48/50\n",
      "1247/1247 [==============================] - 17s 12ms/step - loss: 0.9128\n",
      "Epoch 49/50\n",
      "1247/1247 [==============================] - 17s 12ms/step - loss: 0.9112\n",
      "Epoch 50/50\n",
      "1247/1247 [==============================] - 18s 12ms/step - loss: 0.9086\n"
     ]
    }
   ],
   "source": [
    "history = model.fit(data_train, epochs=50)"
   ]
  },
  {
   "cell_type": "code",
   "execution_count": 8,
   "id": "b1ae2174",
   "metadata": {},
   "outputs": [],
   "source": [
    "model.save_weights('pesos.hdf5')"
   ]
  },
  {
   "cell_type": "markdown",
   "id": "0d81636d",
   "metadata": {},
   "source": [
    "Hago predicciones a partir del modelo entrenado"
   ]
  },
  {
   "cell_type": "code",
   "execution_count": 9,
   "id": "cb09fc2d",
   "metadata": {},
   "outputs": [],
   "source": [
    "model.load_weights('pesos.hdf5')"
   ]
  },
  {
   "cell_type": "code",
   "execution_count": 18,
   "id": "15fa9718",
   "metadata": {},
   "outputs": [
    {
     "name": "stdout",
     "output_type": "stream",
     "text": [
      "Rio \n",
      "de la pier as solo ya tu sientra aquel palo de los pescadores. \n",
      "\n",
      "\n",
      "\n",
      "llevan a flor de agua su cantar  \n",
      "no ambicionado soy  \n",
      "hego e' macachín, miel de camachuí  \n",
      "frito 'el ubajay, pisingallo, tas  \n",
      "baq\n"
     ]
    }
   ],
   "source": [
    "print(complete_text(model, \"Rio\", tokenizer, n_chars=200, temperature=0.2))"
   ]
  },
  {
   "cell_type": "code",
   "execution_count": null,
   "id": "1f3436dd",
   "metadata": {},
   "outputs": [],
   "source": []
  }
 ],
 "metadata": {
  "kernelspec": {
   "display_name": "Python 3 (ipykernel)",
   "language": "python",
   "name": "python3"
  },
  "language_info": {
   "codemirror_mode": {
    "name": "ipython",
    "version": 3
   },
   "file_extension": ".py",
   "mimetype": "text/x-python",
   "name": "python",
   "nbconvert_exporter": "python",
   "pygments_lexer": "ipython3",
   "version": "3.8.10"
  }
 },
 "nbformat": 4,
 "nbformat_minor": 5
}

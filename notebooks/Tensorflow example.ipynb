{
 "cells": [
  {
   "cell_type": "code",
   "execution_count": 1,
   "id": "08a3f255",
   "metadata": {
    "executionInfo": {
     "elapsed": 1899,
     "status": "ok",
     "timestamp": 1628356230106,
     "user": {
      "displayName": "Martin Bernardo Meza",
      "photoUrl": "https://lh3.googleusercontent.com/a-/AOh14GhcQX17rxFbbc2VbakxQOUTg3zDkhKu9KO5Ylq6=s64",
      "userId": "14468399965839794108"
     },
     "user_tz": 180
    },
    "id": "08a3f255"
   },
   "outputs": [
    {
     "name": "stderr",
     "output_type": "stream",
     "text": [
      "2021-08-16 16:02:27.236580: I tensorflow/stream_executor/platform/default/dso_loader.cc:53] Successfully opened dynamic library libcudart.so.11.0\n"
     ]
    }
   ],
   "source": [
    "import tensorflow as tf\n",
    "from tensorflow.keras.layers.experimental import preprocessing\n",
    "\n",
    "import numpy as np\n",
    "import os\n",
    "import time"
   ]
  },
  {
   "cell_type": "markdown",
   "id": "14911a07",
   "metadata": {
    "id": "14911a07"
   },
   "source": [
    "# Cargando datos"
   ]
  },
  {
   "cell_type": "code",
   "execution_count": 2,
   "id": "4afcd4d7",
   "metadata": {
    "executionInfo": {
     "elapsed": 296,
     "status": "ok",
     "timestamp": 1628356240211,
     "user": {
      "displayName": "Martin Bernardo Meza",
      "photoUrl": "https://lh3.googleusercontent.com/a-/AOh14GhcQX17rxFbbc2VbakxQOUTg3zDkhKu9KO5Ylq6=s64",
      "userId": "14468399965839794108"
     },
     "user_tz": 180
    },
    "id": "4afcd4d7"
   },
   "outputs": [],
   "source": [
    "path_to_file = '../data/txts/chamame_dataset.txt'"
   ]
  },
  {
   "cell_type": "code",
   "execution_count": 3,
   "id": "908ee725",
   "metadata": {
    "colab": {
     "base_uri": "https://localhost:8080/"
    },
    "executionInfo": {
     "elapsed": 12,
     "status": "ok",
     "timestamp": 1628356241377,
     "user": {
      "displayName": "Martin Bernardo Meza",
      "photoUrl": "https://lh3.googleusercontent.com/a-/AOh14GhcQX17rxFbbc2VbakxQOUTg3zDkhKu9KO5Ylq6=s64",
      "userId": "14468399965839794108"
     },
     "user_tz": 180
    },
    "id": "908ee725",
    "outputId": "7323c88a-0ee5-43d8-baaf-e8f4eb369631"
   },
   "outputs": [
    {
     "name": "stdout",
     "output_type": "stream",
     "text": [
      "Length of text: 44425 characters\n"
     ]
    }
   ],
   "source": [
    "# Read, then decode for py2 compat.\n",
    "text = open(path_to_file, 'rb').read().decode(encoding='utf-8')\n",
    "# length of text is the number of characters in it\n",
    "print(f'Length of text: {len(text)} characters')"
   ]
  },
  {
   "cell_type": "code",
   "execution_count": 4,
   "id": "4e61ce0c",
   "metadata": {
    "colab": {
     "base_uri": "https://localhost:8080/"
    },
    "executionInfo": {
     "elapsed": 315,
     "status": "ok",
     "timestamp": 1628356243228,
     "user": {
      "displayName": "Martin Bernardo Meza",
      "photoUrl": "https://lh3.googleusercontent.com/a-/AOh14GhcQX17rxFbbc2VbakxQOUTg3zDkhKu9KO5Ylq6=s64",
      "userId": "14468399965839794108"
     },
     "user_tz": 180
    },
    "id": "4e61ce0c",
    "outputId": "07424337-ca35-4bea-9066-6fa88113e6b1"
   },
   "outputs": [
    {
     "name": "stdout",
     "output_type": "stream",
     "text": [
      "69 unique characters\n"
     ]
    }
   ],
   "source": [
    "# The unique characters in the file\n",
    "vocab = sorted(set(text))\n",
    "print(f'{len(vocab)} unique characters')"
   ]
  },
  {
   "cell_type": "markdown",
   "id": "ef88a201",
   "metadata": {
    "id": "ef88a201"
   },
   "source": [
    "# Procesamiento de texto"
   ]
  },
  {
   "cell_type": "code",
   "execution_count": 6,
   "id": "cc3e46b7",
   "metadata": {
    "colab": {
     "base_uri": "https://localhost:8080/"
    },
    "executionInfo": {
     "elapsed": 776,
     "status": "ok",
     "timestamp": 1628356245688,
     "user": {
      "displayName": "Martin Bernardo Meza",
      "photoUrl": "https://lh3.googleusercontent.com/a-/AOh14GhcQX17rxFbbc2VbakxQOUTg3zDkhKu9KO5Ylq6=s64",
      "userId": "14468399965839794108"
     },
     "user_tz": 180
    },
    "id": "cc3e46b7",
    "outputId": "4ea47658-b5b1-464e-8a1c-0bd6a106b2d9"
   },
   "outputs": [
    {
     "data": {
      "text/plain": [
       "<tf.Tensor: shape=(44425,), dtype=int64, numpy=array([59, 32, 45, ...,  3,  1,  1])>"
      ]
     },
     "execution_count": 6,
     "metadata": {},
     "output_type": "execute_result"
    }
   ],
   "source": [
    "# Split into tokens\n",
    "chars = tf.strings.unicode_split(text, input_encoding='UTF-8')\n",
    "\n",
    "ids_from_chars = preprocessing.StringLookup(vocabulary=list(vocab), mask_token=None)\n",
    "ids = ids_from_chars(chars)\n",
    "ids"
   ]
  },
  {
   "cell_type": "code",
   "execution_count": 7,
   "id": "9TrdkP2PZ7QO",
   "metadata": {
    "colab": {
     "base_uri": "https://localhost:8080/"
    },
    "executionInfo": {
     "elapsed": 363,
     "status": "ok",
     "timestamp": 1628356247399,
     "user": {
      "displayName": "Martin Bernardo Meza",
      "photoUrl": "https://lh3.googleusercontent.com/a-/AOh14GhcQX17rxFbbc2VbakxQOUTg3zDkhKu9KO5Ylq6=s64",
      "userId": "14468399965839794108"
     },
     "user_tz": 180
    },
    "id": "9TrdkP2PZ7QO",
    "outputId": "233a732a-a671-4e56-872e-0e55b8cd4386"
   },
   "outputs": [
    {
     "data": {
      "text/plain": [
       "<tf.Tensor: shape=(44425,), dtype=string, numpy=array([b'\\xc3\\x91', b'a', b'n', ..., b' ', b'\\n', b'\\n'], dtype=object)>"
      ]
     },
     "execution_count": 7,
     "metadata": {},
     "output_type": "execute_result"
    }
   ],
   "source": [
    "chars_from_ids = tf.keras.layers.experimental.preprocessing.StringLookup(vocabulary=ids_from_chars.get_vocabulary(), invert=True, mask_token=None)\n",
    "chars = chars_from_ids(ids)\n",
    "chars"
   ]
  },
  {
   "cell_type": "code",
   "execution_count": 8,
   "id": "2612d0fb",
   "metadata": {
    "executionInfo": {
     "elapsed": 10,
     "status": "ok",
     "timestamp": 1628356248443,
     "user": {
      "displayName": "Martin Bernardo Meza",
      "photoUrl": "https://lh3.googleusercontent.com/a-/AOh14GhcQX17rxFbbc2VbakxQOUTg3zDkhKu9KO5Ylq6=s64",
      "userId": "14468399965839794108"
     },
     "user_tz": 180
    },
    "id": "2612d0fb"
   },
   "outputs": [],
   "source": [
    "# Join characters back into strings\n",
    "def text_from_ids(ids):\n",
    "  return tf.strings.reduce_join(chars_from_ids(ids), axis=-1)"
   ]
  },
  {
   "cell_type": "markdown",
   "id": "Ht-j4VmNgmHT",
   "metadata": {
    "id": "Ht-j4VmNgmHT"
   },
   "source": [
    "# Creando pares entrenamiento-objetivo"
   ]
  },
  {
   "cell_type": "code",
   "execution_count": 9,
   "id": "kVD_ZMWsaRTp",
   "metadata": {
    "executionInfo": {
     "elapsed": 327,
     "status": "ok",
     "timestamp": 1628356251162,
     "user": {
      "displayName": "Martin Bernardo Meza",
      "photoUrl": "https://lh3.googleusercontent.com/a-/AOh14GhcQX17rxFbbc2VbakxQOUTg3zDkhKu9KO5Ylq6=s64",
      "userId": "14468399965839794108"
     },
     "user_tz": 180
    },
    "id": "kVD_ZMWsaRTp"
   },
   "outputs": [],
   "source": [
    "all_ids = ids_from_chars(tf.strings.unicode_split(text, 'UTF-8'))\n",
    "ids_dataset = tf.data.Dataset.from_tensor_slices(all_ids)"
   ]
  },
  {
   "cell_type": "code",
   "execution_count": 10,
   "id": "KrT5XUbegyoM",
   "metadata": {
    "colab": {
     "base_uri": "https://localhost:8080/"
    },
    "executionInfo": {
     "elapsed": 3,
     "status": "ok",
     "timestamp": 1628356251615,
     "user": {
      "displayName": "Martin Bernardo Meza",
      "photoUrl": "https://lh3.googleusercontent.com/a-/AOh14GhcQX17rxFbbc2VbakxQOUTg3zDkhKu9KO5Ylq6=s64",
      "userId": "14468399965839794108"
     },
     "user_tz": 180
    },
    "id": "KrT5XUbegyoM",
    "outputId": "25e55bd8-ba52-4469-9aaa-a21506d432a0"
   },
   "outputs": [
    {
     "name": "stdout",
     "output_type": "stream",
     "text": [
      "Ñ\n",
      "a\n",
      "n\n",
      "g\n",
      "a\n",
      "p\n",
      "i\n",
      "r\n",
      "í\n",
      " \n"
     ]
    }
   ],
   "source": [
    "for ids in ids_dataset.take(10):\n",
    "    print(chars_from_ids(ids).numpy().decode('utf-8'))"
   ]
  },
  {
   "cell_type": "code",
   "execution_count": 11,
   "id": "RkWrNbIug3Vp",
   "metadata": {
    "colab": {
     "base_uri": "https://localhost:8080/"
    },
    "executionInfo": {
     "elapsed": 9,
     "status": "ok",
     "timestamp": 1628356251912,
     "user": {
      "displayName": "Martin Bernardo Meza",
      "photoUrl": "https://lh3.googleusercontent.com/a-/AOh14GhcQX17rxFbbc2VbakxQOUTg3zDkhKu9KO5Ylq6=s64",
      "userId": "14468399965839794108"
     },
     "user_tz": 180
    },
    "id": "RkWrNbIug3Vp",
    "outputId": "7a10fc67-a51e-4a92-a6bc-2fa6b857dc25"
   },
   "outputs": [
    {
     "name": "stdout",
     "output_type": "stream",
     "text": [
      "tf.Tensor(\n",
      "[b'\\xc3\\x91' b'a' b'n' b'g' b'a' b'p' b'i' b'r' b'\\xc3\\xad' b' ' b's' b'i'\n",
      " b'l' b'v' b'e' b's' b't' b'r' b'e' b' ' b'l' b'u' b'z' b' ' b'd' b'e'\n",
      " b'l' b' ' b'a' b'r' b'e' b'n' b'a' b'l' b' ' b'\\n' b't' b'i' b'b' b'i'\n",
      " b'o' b' ' b'r' b'u' b'b' b'o' b'r' b' ' b'd' b'e' b'l' b' ' b'v' b'e'\n",
      " b'r' b'd' b'e' b' ' b'g' b'r' b'i' b's' b' ' b'd' b'e' b' ' b'l' b'a'\n",
      " b' ' b'n' b'i' b'\\xc3\\xb1' b'e' b'z' b'.' b' ' b'\\n' b'\\n' b'\\n' b'M'\n",
      " b'i' b' ' b'r' b'e' b's' b'p' b'l' b'a' b'n' b'd' b'o' b'r' b' ' b'm'\n",
      " b'i' b' ' b'a' b't' b'a' b'r' b'd'], shape=(101,), dtype=string)\n"
     ]
    }
   ],
   "source": [
    "# Batch definition\n",
    "seq_length = 100\n",
    "examples_per_epoch = len(text)//(seq_length+1)\n",
    "\n",
    "sequences = ids_dataset.batch(seq_length+1, drop_remainder=True)\n",
    "\n",
    "for seq in sequences.take(1):\n",
    "  print(chars_from_ids(seq))"
   ]
  },
  {
   "cell_type": "code",
   "execution_count": 12,
   "id": "7BGiLoekhC5-",
   "metadata": {
    "colab": {
     "base_uri": "https://localhost:8080/"
    },
    "executionInfo": {
     "elapsed": 9,
     "status": "ok",
     "timestamp": 1628356252219,
     "user": {
      "displayName": "Martin Bernardo Meza",
      "photoUrl": "https://lh3.googleusercontent.com/a-/AOh14GhcQX17rxFbbc2VbakxQOUTg3zDkhKu9KO5Ylq6=s64",
      "userId": "14468399965839794108"
     },
     "user_tz": 180
    },
    "id": "7BGiLoekhC5-",
    "outputId": "d88b03b5-ff5b-4f55-a8a3-d536a816cc96"
   },
   "outputs": [
    {
     "name": "stdout",
     "output_type": "stream",
     "text": [
      "b'\\xc3\\x91angapir\\xc3\\xad silvestre luz del arenal \\ntibio rubor del verde gris de la ni\\xc3\\xb1ez. \\n\\n\\nMi resplandor mi atard'\n",
      "b'ecer mi tarag\\xc3\\xbci \\ny el cielo aqu\\xc3\\xad de tu mirar \\xc3\\xb1angapir\\xc3\\xad. \\n\\n\\nAnduve mirando el pueblo busc\\xc3\\xa1ndome \\ny flu'\n",
      "b'yes como mi sangre de chamam\\xc3\\xa9 \\nenciende tu pie desnudo sobre mi piel \\nun r\\xc3\\xado de primavera ternura y m'\n",
      "b'iel \\na orillas de tu sonrisa yo soy feliz \\nno quiero partir de nuevo \\xc3\\xb1angapir\\xc3\\xad. \\n\\n\\nLa luna se ardi\\xc3\\xb3 e'\n",
      "b'n el r\\xc3\\xado \\xc3\\xb1angapir\\xc3\\xad \\ny vuela a lo m\\xc3\\xa1s profundo de tu vivir \\nall\\xc3\\xad donde es todo aroma va mi canci\\xc3\\xb3n \\na '\n"
     ]
    }
   ],
   "source": [
    "for seq in sequences.take(5):\n",
    "  print(text_from_ids(seq).numpy())"
   ]
  },
  {
   "cell_type": "code",
   "execution_count": 13,
   "id": "dAL9GcxwhbF6",
   "metadata": {
    "colab": {
     "base_uri": "https://localhost:8080/"
    },
    "executionInfo": {
     "elapsed": 5,
     "status": "ok",
     "timestamp": 1628356253256,
     "user": {
      "displayName": "Martin Bernardo Meza",
      "photoUrl": "https://lh3.googleusercontent.com/a-/AOh14GhcQX17rxFbbc2VbakxQOUTg3zDkhKu9KO5Ylq6=s64",
      "userId": "14468399965839794108"
     },
     "user_tz": 180
    },
    "id": "dAL9GcxwhbF6",
    "outputId": "bc16f10b-f40a-4273-878d-688e1c800fe5"
   },
   "outputs": [
    {
     "data": {
      "text/plain": [
       "(['T', 'e', 'n', 's', 'o', 'r', 'f', 'l', 'o'],\n",
       " ['e', 'n', 's', 'o', 'r', 'f', 'l', 'o', 'w'])"
      ]
     },
     "execution_count": 13,
     "metadata": {},
     "output_type": "execute_result"
    }
   ],
   "source": [
    "def split_input_target(sequence):\n",
    "    input_text = sequence[:-1]\n",
    "    target_text = sequence[1:]\n",
    "    return input_text, target_text\n",
    "\n",
    "split_input_target(list(\"Tensorflow\"))"
   ]
  },
  {
   "cell_type": "code",
   "execution_count": 14,
   "id": "PUnvH2C7h5rQ",
   "metadata": {
    "colab": {
     "base_uri": "https://localhost:8080/"
    },
    "executionInfo": {
     "elapsed": 393,
     "status": "ok",
     "timestamp": 1628356254042,
     "user": {
      "displayName": "Martin Bernardo Meza",
      "photoUrl": "https://lh3.googleusercontent.com/a-/AOh14GhcQX17rxFbbc2VbakxQOUTg3zDkhKu9KO5Ylq6=s64",
      "userId": "14468399965839794108"
     },
     "user_tz": 180
    },
    "id": "PUnvH2C7h5rQ",
    "outputId": "c3e62408-3920-4458-aa8d-dcd300fa3c80"
   },
   "outputs": [
    {
     "name": "stdout",
     "output_type": "stream",
     "text": [
      "Input : b'\\xc3\\x91angapir\\xc3\\xad silvestre luz del arenal \\ntibio rubor del verde gris de la ni\\xc3\\xb1ez. \\n\\n\\nMi resplandor mi atar'\n",
      "Target: b'angapir\\xc3\\xad silvestre luz del arenal \\ntibio rubor del verde gris de la ni\\xc3\\xb1ez. \\n\\n\\nMi resplandor mi atard'\n"
     ]
    },
    {
     "name": "stderr",
     "output_type": "stream",
     "text": [
      "2021-08-16 16:02:41.778217: I tensorflow/compiler/mlir/mlir_graph_optimization_pass.cc:176] None of the MLIR Optimization Passes are enabled (registered 2)\n",
      "2021-08-16 16:02:41.797859: I tensorflow/core/platform/profile_utils/cpu_utils.cc:114] CPU Frequency: 3199980000 Hz\n"
     ]
    }
   ],
   "source": [
    "dataset = sequences.map(split_input_target)\n",
    "\n",
    "for input_example, target_example in dataset.take(1):\n",
    "    print(\"Input :\", text_from_ids(input_example).numpy())\n",
    "    print(\"Target:\", text_from_ids(target_example).numpy())\n"
   ]
  },
  {
   "cell_type": "markdown",
   "id": "yZv5WodIiEjh",
   "metadata": {
    "id": "yZv5WodIiEjh"
   },
   "source": [
    "# Creando baches de entrenamiento"
   ]
  },
  {
   "cell_type": "code",
   "execution_count": 15,
   "id": "x6C-kx-hh9Cd",
   "metadata": {
    "colab": {
     "base_uri": "https://localhost:8080/"
    },
    "executionInfo": {
     "elapsed": 297,
     "status": "ok",
     "timestamp": 1628356256260,
     "user": {
      "displayName": "Martin Bernardo Meza",
      "photoUrl": "https://lh3.googleusercontent.com/a-/AOh14GhcQX17rxFbbc2VbakxQOUTg3zDkhKu9KO5Ylq6=s64",
      "userId": "14468399965839794108"
     },
     "user_tz": 180
    },
    "id": "x6C-kx-hh9Cd",
    "outputId": "3dee03ec-dbb1-44b6-d186-6f5f43fd68c3"
   },
   "outputs": [
    {
     "data": {
      "text/plain": [
       "<PrefetchDataset shapes: ((32, 100), (32, 100)), types: (tf.int64, tf.int64)>"
      ]
     },
     "execution_count": 15,
     "metadata": {},
     "output_type": "execute_result"
    }
   ],
   "source": [
    "# Batch size\n",
    "BATCH_SIZE = 32\n",
    "\n",
    "# Buffer size to shuffle the dataset\n",
    "# (TF data is designed to work with possibly infinite sequences,\n",
    "# so it doesn't attempt to shuffle the entire sequence in memory. Instead,\n",
    "# it maintains a buffer in which it shuffles elements).\n",
    "BUFFER_SIZE = 10000\n",
    "\n",
    "dataset = (\n",
    "    dataset\n",
    "    .shuffle(BUFFER_SIZE)\n",
    "    .batch(BATCH_SIZE, drop_remainder=True)\n",
    "    .prefetch(tf.data.experimental.AUTOTUNE))\n",
    "\n",
    "dataset"
   ]
  },
  {
   "cell_type": "markdown",
   "id": "RqPkFSh3iSRr",
   "metadata": {
    "id": "RqPkFSh3iSRr"
   },
   "source": [
    "# Modelo "
   ]
  },
  {
   "cell_type": "code",
   "execution_count": 16,
   "id": "SosjLzQXiMEm",
   "metadata": {
    "executionInfo": {
     "elapsed": 2,
     "status": "ok",
     "timestamp": 1628356257487,
     "user": {
      "displayName": "Martin Bernardo Meza",
      "photoUrl": "https://lh3.googleusercontent.com/a-/AOh14GhcQX17rxFbbc2VbakxQOUTg3zDkhKu9KO5Ylq6=s64",
      "userId": "14468399965839794108"
     },
     "user_tz": 180
    },
    "id": "SosjLzQXiMEm"
   },
   "outputs": [],
   "source": [
    "# Length of the vocabulary in chars\n",
    "vocab_size = len(vocab)\n",
    "\n",
    "# The embedding dimension\n",
    "embedding_dim = 256\n",
    "\n",
    "# Number of RNN units\n",
    "rnn_units = 1024\n",
    "\n",
    "class MyModel(tf.keras.Model):\n",
    "  def __init__(self, vocab_size, embedding_dim, rnn_units):\n",
    "    super().__init__(self)\n",
    "    self.embedding = tf.keras.layers.Embedding(vocab_size, embedding_dim)\n",
    "    self.gru = tf.keras.layers.GRU(rnn_units,\n",
    "                                   return_sequences=True,\n",
    "                                   return_state=True)\n",
    "    self.dense = tf.keras.layers.Dense(vocab_size)\n",
    "\n",
    "  def call(self, inputs, states=None, return_state=False, training=False):\n",
    "    x = inputs\n",
    "    x = self.embedding(x, training=training)\n",
    "    if states is None:\n",
    "      states = self.gru.get_initial_state(x)\n",
    "    x, states = self.gru(x, initial_state=states, training=training)\n",
    "    x = self.dense(x, training=training)\n",
    "\n",
    "    if return_state:\n",
    "      return x, states\n",
    "    else:\n",
    "      return x\n",
    "\n",
    "model = MyModel(\n",
    "    # Be sure the vocabulary size matches the `StringLookup` layers.\n",
    "    vocab_size=len(ids_from_chars.get_vocabulary()),\n",
    "    embedding_dim=embedding_dim,\n",
    "    rnn_units=rnn_units)\n"
   ]
  },
  {
   "cell_type": "code",
   "execution_count": 17,
   "id": "6Ae-pLR5iUbZ",
   "metadata": {
    "colab": {
     "base_uri": "https://localhost:8080/"
    },
    "executionInfo": {
     "elapsed": 2241,
     "status": "ok",
     "timestamp": 1628356261090,
     "user": {
      "displayName": "Martin Bernardo Meza",
      "photoUrl": "https://lh3.googleusercontent.com/a-/AOh14GhcQX17rxFbbc2VbakxQOUTg3zDkhKu9KO5Ylq6=s64",
      "userId": "14468399965839794108"
     },
     "user_tz": 180
    },
    "id": "6Ae-pLR5iUbZ",
    "outputId": "eccec79f-1add-4547-f960-cc614cc18237"
   },
   "outputs": [
    {
     "name": "stderr",
     "output_type": "stream",
     "text": [
      "2021-08-16 16:02:44.717998: I tensorflow/stream_executor/platform/default/dso_loader.cc:53] Successfully opened dynamic library libcudnn.so.8\n",
      "2021-08-16 16:02:45.213368: I tensorflow/stream_executor/cuda/cuda_dnn.cc:359] Loaded cuDNN version 8202\n",
      "2021-08-16 16:02:45.370622: I tensorflow/stream_executor/platform/default/dso_loader.cc:53] Successfully opened dynamic library libcublas.so.11\n"
     ]
    },
    {
     "name": "stdout",
     "output_type": "stream",
     "text": [
      "(32, 100, 70) # (batch_size, sequence_length, vocab_size)\n"
     ]
    },
    {
     "name": "stderr",
     "output_type": "stream",
     "text": [
      "2021-08-16 16:02:45.894941: I tensorflow/stream_executor/platform/default/dso_loader.cc:53] Successfully opened dynamic library libcublasLt.so.11\n"
     ]
    }
   ],
   "source": [
    "# Check the shape of the output\n",
    "for input_example_batch, target_example_batch in dataset.take(1):\n",
    "    example_batch_predictions = model(input_example_batch)\n",
    "    print(example_batch_predictions.shape, \"# (batch_size, sequence_length, vocab_size)\")\n"
   ]
  },
  {
   "cell_type": "code",
   "execution_count": 18,
   "id": "E8HGJmvoiceK",
   "metadata": {
    "colab": {
     "base_uri": "https://localhost:8080/"
    },
    "executionInfo": {
     "elapsed": 16,
     "status": "ok",
     "timestamp": 1628356261092,
     "user": {
      "displayName": "Martin Bernardo Meza",
      "photoUrl": "https://lh3.googleusercontent.com/a-/AOh14GhcQX17rxFbbc2VbakxQOUTg3zDkhKu9KO5Ylq6=s64",
      "userId": "14468399965839794108"
     },
     "user_tz": 180
    },
    "id": "E8HGJmvoiceK",
    "outputId": "d25b7898-4370-4c51-c312-5a8480c096a8"
   },
   "outputs": [
    {
     "name": "stdout",
     "output_type": "stream",
     "text": [
      "Model: \"my_model\"\n",
      "_________________________________________________________________\n",
      "Layer (type)                 Output Shape              Param #   \n",
      "=================================================================\n",
      "embedding (Embedding)        multiple                  17920     \n",
      "_________________________________________________________________\n",
      "gru (GRU)                    multiple                  3938304   \n",
      "_________________________________________________________________\n",
      "dense (Dense)                multiple                  71750     \n",
      "=================================================================\n",
      "Total params: 4,027,974\n",
      "Trainable params: 4,027,974\n",
      "Non-trainable params: 0\n",
      "_________________________________________________________________\n"
     ]
    }
   ],
   "source": [
    "model.summary()"
   ]
  },
  {
   "cell_type": "markdown",
   "id": "pEGZMsNYiq4Q",
   "metadata": {
    "id": "pEGZMsNYiq4Q"
   },
   "source": [
    "## Prueba del modelo\n",
    "To get actual predictions from the model you need to sample from the output distribution, to get actual character indices. This distribution is defined by the logits over the character vocabulary."
   ]
  },
  {
   "cell_type": "code",
   "execution_count": 19,
   "id": "RAiCfC21ii9f",
   "metadata": {
    "executionInfo": {
     "elapsed": 272,
     "status": "ok",
     "timestamp": 1628356263477,
     "user": {
      "displayName": "Martin Bernardo Meza",
      "photoUrl": "https://lh3.googleusercontent.com/a-/AOh14GhcQX17rxFbbc2VbakxQOUTg3zDkhKu9KO5Ylq6=s64",
      "userId": "14468399965839794108"
     },
     "user_tz": 180
    },
    "id": "RAiCfC21ii9f"
   },
   "outputs": [],
   "source": [
    "sampled_indices = tf.random.categorical(example_batch_predictions[0], num_samples=1)\n",
    "sampled_indices = tf.squeeze(sampled_indices, axis=-1).numpy()"
   ]
  },
  {
   "cell_type": "code",
   "execution_count": 20,
   "id": "MGnpqfaxiwJl",
   "metadata": {
    "colab": {
     "base_uri": "https://localhost:8080/"
    },
    "executionInfo": {
     "elapsed": 284,
     "status": "ok",
     "timestamp": 1628356265028,
     "user": {
      "displayName": "Martin Bernardo Meza",
      "photoUrl": "https://lh3.googleusercontent.com/a-/AOh14GhcQX17rxFbbc2VbakxQOUTg3zDkhKu9KO5Ylq6=s64",
      "userId": "14468399965839794108"
     },
     "user_tz": 180
    },
    "id": "MGnpqfaxiwJl",
    "outputId": "c7c60e5b-c1c5-4e73-9daf-4d3389c0f500"
   },
   "outputs": [
    {
     "data": {
      "text/plain": [
       "array([40, 63, 50,  0,  8,  3,  3, 27, 30, 45, 26,  8, 48, 24, 35, 17, 56,\n",
       "       52,  3, 55, 65, 13, 42, 16, 64, 54, 21, 50, 15, 13, 63, 29, 33,  2,\n",
       "       51,  9, 30, 34, 45, 55, 66, 41, 25, 68, 28,  1, 66,  9, 66, 25, 59,\n",
       "       33, 36, 19, 46, 37, 32, 36, 27, 69, 17,  3, 48, 61, 17, 41, 44, 47,\n",
       "       56, 52,  4,  0, 25, 23, 13, 28, 31, 52, 56, 11, 54, 23, 69, 53, 63,\n",
       "       58, 24, 69, 35, 48, 33, 28, 65, 66, 13, 39, 55, 57, 53,  9])"
      ]
     },
     "execution_count": 20,
     "metadata": {},
     "output_type": "execute_result"
    }
   ],
   "source": [
    "sampled_indices"
   ]
  },
  {
   "cell_type": "code",
   "execution_count": 21,
   "id": "Rzhe6L5Ii4N7",
   "metadata": {
    "colab": {
     "base_uri": "https://localhost:8080/"
    },
    "executionInfo": {
     "elapsed": 2,
     "status": "ok",
     "timestamp": 1628356265473,
     "user": {
      "displayName": "Martin Bernardo Meza",
      "photoUrl": "https://lh3.googleusercontent.com/a-/AOh14GhcQX17rxFbbc2VbakxQOUTg3zDkhKu9KO5Ylq6=s64",
      "userId": "14468399965839794108"
     },
     "user_tz": 180
    },
    "id": "Rzhe6L5Ii4N7",
    "outputId": "62c168fe-0061-4b1d-996c-4c5719b1e4ce"
   },
   "outputs": [
    {
     "name": "stdout",
     "output_type": "stream",
     "text": [
      "Input:\n",
      " b'ir \\nen una noche de amor \\narrebatado por t\\xc3\\xad \\nall\\xc3\\xa1 por Ituzaing\\xc3\\xb3. \\n\\ncamino donde la luna andaba de a '\n",
      "\n",
      "Next Char Predictions:\n",
      " b'i\\xc3\\xb1s[UNK].  SVnR.qPdHzu y\\xc3\\xbaDkG\\xc3\\xb3xMsFD\\xc3\\xb1Ub\\x0ct:Vcny\\xc3\\xbcjQ\\xe2\\x80\\x99T\\n\\xc3\\xbc:\\xc3\\xbcQ\\xc3\\x91beJofaeS\\xe2\\x80\\xa6H q\\xc3\\xa9Hjmpzu![UNK]QODTYuzBxO\\xe2\\x80\\xa6v\\xc3\\xb1\\xc2\\xb4P\\xe2\\x80\\xa6dqbT\\xc3\\xba\\xc3\\xbcDhy\\xc2\\xa1v:'\n"
     ]
    }
   ],
   "source": [
    "# Decode these to see the text predicted by this untrained model:\n",
    "\n",
    "print(\"Input:\\n\", text_from_ids(input_example_batch[0]).numpy())\n",
    "print()\n",
    "print(\"Next Char Predictions:\\n\", text_from_ids(sampled_indices).numpy())"
   ]
  },
  {
   "cell_type": "markdown",
   "id": "4qGNtW5ejFBe",
   "metadata": {
    "id": "4qGNtW5ejFBe"
   },
   "source": [
    "# Train the model"
   ]
  },
  {
   "cell_type": "code",
   "execution_count": 22,
   "id": "ysBGe5m0i9IU",
   "metadata": {
    "colab": {
     "base_uri": "https://localhost:8080/"
    },
    "executionInfo": {
     "elapsed": 5,
     "status": "ok",
     "timestamp": 1628356266493,
     "user": {
      "displayName": "Martin Bernardo Meza",
      "photoUrl": "https://lh3.googleusercontent.com/a-/AOh14GhcQX17rxFbbc2VbakxQOUTg3zDkhKu9KO5Ylq6=s64",
      "userId": "14468399965839794108"
     },
     "user_tz": 180
    },
    "id": "ysBGe5m0i9IU",
    "outputId": "b458bcbe-65c1-4e89-b80b-f95dcb9e327d"
   },
   "outputs": [
    {
     "name": "stdout",
     "output_type": "stream",
     "text": [
      "Prediction shape:  (32, 100, 70)  # (batch_size, sequence_length, vocab_size)\n",
      "Mean loss:         4.24928\n"
     ]
    }
   ],
   "source": [
    "loss = tf.losses.SparseCategoricalCrossentropy(from_logits=True)\n",
    "\n",
    "example_batch_loss = loss(target_example_batch, example_batch_predictions)\n",
    "mean_loss = example_batch_loss.numpy().mean()\n",
    "print(\"Prediction shape: \", example_batch_predictions.shape, \" # (batch_size, sequence_length, vocab_size)\")\n",
    "print(\"Mean loss:        \", mean_loss)\n"
   ]
  },
  {
   "cell_type": "code",
   "execution_count": 23,
   "id": "dsQdc95EjhzB",
   "metadata": {
    "colab": {
     "base_uri": "https://localhost:8080/"
    },
    "executionInfo": {
     "elapsed": 360,
     "status": "ok",
     "timestamp": 1628356268299,
     "user": {
      "displayName": "Martin Bernardo Meza",
      "photoUrl": "https://lh3.googleusercontent.com/a-/AOh14GhcQX17rxFbbc2VbakxQOUTg3zDkhKu9KO5Ylq6=s64",
      "userId": "14468399965839794108"
     },
     "user_tz": 180
    },
    "id": "dsQdc95EjhzB",
    "outputId": "76cdccf8-3d5a-4f90-a12c-fa0a9653d440"
   },
   "outputs": [
    {
     "data": {
      "text/plain": [
       "70.054955"
      ]
     },
     "execution_count": 23,
     "metadata": {},
     "output_type": "execute_result"
    }
   ],
   "source": [
    "tf.exp(mean_loss).numpy()\n"
   ]
  },
  {
   "cell_type": "code",
   "execution_count": 24,
   "id": "H4QUt63FjlMp",
   "metadata": {
    "executionInfo": {
     "elapsed": 310,
     "status": "ok",
     "timestamp": 1628356269783,
     "user": {
      "displayName": "Martin Bernardo Meza",
      "photoUrl": "https://lh3.googleusercontent.com/a-/AOh14GhcQX17rxFbbc2VbakxQOUTg3zDkhKu9KO5Ylq6=s64",
      "userId": "14468399965839794108"
     },
     "user_tz": 180
    },
    "id": "H4QUt63FjlMp"
   },
   "outputs": [],
   "source": [
    "model.compile(optimizer='adam', loss=loss)"
   ]
  },
  {
   "cell_type": "code",
   "execution_count": 25,
   "id": "F9eGldC9jo6t",
   "metadata": {
    "executionInfo": {
     "elapsed": 8,
     "status": "ok",
     "timestamp": 1628356270786,
     "user": {
      "displayName": "Martin Bernardo Meza",
      "photoUrl": "https://lh3.googleusercontent.com/a-/AOh14GhcQX17rxFbbc2VbakxQOUTg3zDkhKu9KO5Ylq6=s64",
      "userId": "14468399965839794108"
     },
     "user_tz": 180
    },
    "id": "F9eGldC9jo6t"
   },
   "outputs": [],
   "source": [
    "# Directory where the checkpoints will be saved\n",
    "checkpoint_dir = './training_checkpoints'\n",
    "# Name of the checkpoint files\n",
    "checkpoint_prefix = os.path.join(checkpoint_dir, \"ckpt_{epoch}\")\n",
    "\n",
    "checkpoint_callback = tf.keras.callbacks.ModelCheckpoint(\n",
    "    filepath=checkpoint_prefix,\n",
    "    save_weights_only=True)\n"
   ]
  },
  {
   "cell_type": "code",
   "execution_count": 26,
   "id": "wg8HbLfYjrq0",
   "metadata": {
    "colab": {
     "base_uri": "https://localhost:8080/"
    },
    "executionInfo": {
     "elapsed": 41687,
     "status": "ok",
     "timestamp": 1628356703856,
     "user": {
      "displayName": "Martin Bernardo Meza",
      "photoUrl": "https://lh3.googleusercontent.com/a-/AOh14GhcQX17rxFbbc2VbakxQOUTg3zDkhKu9KO5Ylq6=s64",
      "userId": "14468399965839794108"
     },
     "user_tz": 180
    },
    "id": "wg8HbLfYjrq0",
    "outputId": "28bfb3e6-b4ee-4906-ce0a-2d2fd9af8faf"
   },
   "outputs": [
    {
     "name": "stdout",
     "output_type": "stream",
     "text": [
      "Epoch 1/50\n",
      "13/13 [==============================] - 2s 59ms/step - loss: 4.1244\n",
      "Epoch 2/50\n",
      "13/13 [==============================] - 1s 54ms/step - loss: 3.2484\n",
      "Epoch 3/50\n",
      "13/13 [==============================] - 1s 54ms/step - loss: 2.8767\n",
      "Epoch 4/50\n",
      "13/13 [==============================] - 1s 53ms/step - loss: 2.6755\n",
      "Epoch 5/50\n",
      "13/13 [==============================] - 1s 52ms/step - loss: 2.4786\n",
      "Epoch 6/50\n",
      "13/13 [==============================] - 1s 53ms/step - loss: 2.3530\n",
      "Epoch 7/50\n",
      "13/13 [==============================] - 1s 54ms/step - loss: 2.2708\n",
      "Epoch 8/50\n",
      "13/13 [==============================] - 1s 52ms/step - loss: 2.2054\n",
      "Epoch 9/50\n",
      "13/13 [==============================] - 1s 55ms/step - loss: 2.1642\n",
      "Epoch 10/50\n",
      "13/13 [==============================] - 1s 52ms/step - loss: 2.1256\n",
      "Epoch 11/50\n",
      "13/13 [==============================] - 1s 53ms/step - loss: 2.0953\n",
      "Epoch 12/50\n",
      "13/13 [==============================] - 1s 51ms/step - loss: 2.0691\n",
      "Epoch 13/50\n",
      "13/13 [==============================] - 1s 55ms/step - loss: 2.0390\n",
      "Epoch 14/50\n",
      "13/13 [==============================] - 1s 51ms/step - loss: 2.0115\n",
      "Epoch 15/50\n",
      "13/13 [==============================] - 1s 54ms/step - loss: 1.9846\n",
      "Epoch 16/50\n",
      "13/13 [==============================] - 1s 55ms/step - loss: 1.9538\n",
      "Epoch 17/50\n",
      "13/13 [==============================] - 1s 54ms/step - loss: 1.9250\n",
      "Epoch 18/50\n",
      "13/13 [==============================] - 1s 53ms/step - loss: 1.8913\n",
      "Epoch 19/50\n",
      "13/13 [==============================] - 1s 56ms/step - loss: 1.8598\n",
      "Epoch 20/50\n",
      "13/13 [==============================] - 1s 51ms/step - loss: 1.8245\n",
      "Epoch 21/50\n",
      "13/13 [==============================] - 1s 51ms/step - loss: 1.7948\n",
      "Epoch 22/50\n",
      "13/13 [==============================] - 1s 52ms/step - loss: 1.7612\n",
      "Epoch 23/50\n",
      "13/13 [==============================] - 1s 51ms/step - loss: 1.7244\n",
      "Epoch 24/50\n",
      "13/13 [==============================] - 1s 53ms/step - loss: 1.6866\n",
      "Epoch 25/50\n",
      "13/13 [==============================] - 1s 53ms/step - loss: 1.6559\n",
      "Epoch 26/50\n",
      "13/13 [==============================] - 1s 54ms/step - loss: 1.6172\n",
      "Epoch 27/50\n",
      "13/13 [==============================] - 1s 55ms/step - loss: 1.5759\n",
      "Epoch 28/50\n",
      "13/13 [==============================] - 1s 54ms/step - loss: 1.5353\n",
      "Epoch 29/50\n",
      "13/13 [==============================] - 1s 53ms/step - loss: 1.4859\n",
      "Epoch 30/50\n",
      "13/13 [==============================] - 1s 52ms/step - loss: 1.4399\n",
      "Epoch 31/50\n",
      "13/13 [==============================] - 1s 55ms/step - loss: 1.3953\n",
      "Epoch 32/50\n",
      "13/13 [==============================] - 1s 55ms/step - loss: 1.3357\n",
      "Epoch 33/50\n",
      "13/13 [==============================] - 1s 54ms/step - loss: 1.2839\n",
      "Epoch 34/50\n",
      "13/13 [==============================] - 1s 53ms/step - loss: 1.2211\n",
      "Epoch 35/50\n",
      "13/13 [==============================] - 1s 51ms/step - loss: 1.1604\n",
      "Epoch 36/50\n",
      "13/13 [==============================] - 1s 52ms/step - loss: 1.0984\n",
      "Epoch 37/50\n",
      "13/13 [==============================] - 1s 51ms/step - loss: 1.0299\n",
      "Epoch 38/50\n",
      "13/13 [==============================] - 1s 50ms/step - loss: 0.9532\n",
      "Epoch 39/50\n",
      "13/13 [==============================] - 1s 54ms/step - loss: 0.8753\n",
      "Epoch 40/50\n",
      "13/13 [==============================] - 1s 53ms/step - loss: 0.8032\n",
      "Epoch 41/50\n",
      "13/13 [==============================] - 1s 53ms/step - loss: 0.7285\n",
      "Epoch 42/50\n",
      "13/13 [==============================] - 1s 53ms/step - loss: 0.6435\n",
      "Epoch 43/50\n",
      "13/13 [==============================] - 1s 53ms/step - loss: 0.5729\n",
      "Epoch 44/50\n",
      "13/13 [==============================] - 1s 54ms/step - loss: 0.4950\n",
      "Epoch 45/50\n",
      "13/13 [==============================] - 1s 53ms/step - loss: 0.4227\n",
      "Epoch 46/50\n",
      "13/13 [==============================] - 1s 51ms/step - loss: 0.3604\n",
      "Epoch 47/50\n",
      "13/13 [==============================] - 1s 52ms/step - loss: 0.3042\n",
      "Epoch 48/50\n",
      "13/13 [==============================] - 1s 54ms/step - loss: 0.2590\n",
      "Epoch 49/50\n",
      "13/13 [==============================] - 1s 54ms/step - loss: 0.2192\n",
      "Epoch 50/50\n",
      "13/13 [==============================] - 1s 51ms/step - loss: 0.1888\n"
     ]
    }
   ],
   "source": [
    "EPOCHS = 50\n",
    "\n",
    "history = model.fit(dataset, epochs=EPOCHS, callbacks=[checkpoint_callback])\n"
   ]
  },
  {
   "cell_type": "markdown",
   "id": "2xS8midPkoka",
   "metadata": {
    "id": "2xS8midPkoka"
   },
   "source": [
    "# Generate Text"
   ]
  },
  {
   "cell_type": "code",
   "execution_count": 30,
   "id": "9lIGWuE3jujz",
   "metadata": {
    "executionInfo": {
     "elapsed": 293,
     "status": "ok",
     "timestamp": 1628356801182,
     "user": {
      "displayName": "Martin Bernardo Meza",
      "photoUrl": "https://lh3.googleusercontent.com/a-/AOh14GhcQX17rxFbbc2VbakxQOUTg3zDkhKu9KO5Ylq6=s64",
      "userId": "14468399965839794108"
     },
     "user_tz": 180
    },
    "id": "9lIGWuE3jujz"
   },
   "outputs": [],
   "source": [
    "class OneStep(tf.keras.Model):\n",
    "  def __init__(self, model, chars_from_ids, ids_from_chars, temperature=0.5):\n",
    "    super().__init__()  \n",
    "    self.temperature = temperature\n",
    "    self.model = model\n",
    "    self.chars_from_ids = chars_from_ids\n",
    "    self.ids_from_chars = ids_from_chars\n",
    "\n",
    "    # Create a mask to prevent \"[UNK]\" from being generated.\n",
    "    skip_ids = self.ids_from_chars(['[UNK]'])[:, None]\n",
    "    sparse_mask = tf.SparseTensor(\n",
    "        # Put a -inf at each bad index.\n",
    "        values=[-float('inf')]*len(skip_ids),\n",
    "        indices=skip_ids,\n",
    "        # Match the shape to the vocabulary\n",
    "        dense_shape=[len(ids_from_chars.get_vocabulary())])\n",
    "    self.prediction_mask = tf.sparse.to_dense(sparse_mask)\n",
    "\n",
    "  @tf.function\n",
    "  def generate_one_step(self, inputs, states=None):\n",
    "    # Convert strings to token IDs.\n",
    "    input_chars = tf.strings.unicode_split(inputs, 'UTF-8')\n",
    "    input_ids = self.ids_from_chars(input_chars).to_tensor()\n",
    "\n",
    "    # Run the model.\n",
    "    # predicted_logits.shape is [batch, char, next_char_logits]\n",
    "    predicted_logits, states = self.model(inputs=input_ids, states=states,\n",
    "                                          return_state=True)\n",
    "    # Only use the last prediction.\n",
    "    predicted_logits = predicted_logits[:, -1, :]\n",
    "    predicted_logits = predicted_logits/self.temperature\n",
    "    # Apply the prediction mask: prevent \"[UNK]\" from being generated.\n",
    "    predicted_logits = predicted_logits + self.prediction_mask\n",
    "\n",
    "    # Sample the output logits to generate token IDs.\n",
    "    predicted_ids = tf.random.categorical(predicted_logits, num_samples=1)\n",
    "    predicted_ids = tf.squeeze(predicted_ids, axis=-1)\n",
    "\n",
    "    # Convert from token ids to characters\n",
    "    predicted_chars = self.chars_from_ids(predicted_ids)\n",
    "\n",
    "    # Return the characters and model state.\n",
    "    return predicted_chars, states"
   ]
  },
  {
   "cell_type": "code",
   "execution_count": 31,
   "id": "_nlH-hhokq9_",
   "metadata": {
    "executionInfo": {
     "elapsed": 11,
     "status": "ok",
     "timestamp": 1628356801634,
     "user": {
      "displayName": "Martin Bernardo Meza",
      "photoUrl": "https://lh3.googleusercontent.com/a-/AOh14GhcQX17rxFbbc2VbakxQOUTg3zDkhKu9KO5Ylq6=s64",
      "userId": "14468399965839794108"
     },
     "user_tz": 180
    },
    "id": "_nlH-hhokq9_"
   },
   "outputs": [],
   "source": [
    "one_step_model = OneStep(model, chars_from_ids, ids_from_chars)"
   ]
  },
  {
   "cell_type": "code",
   "execution_count": 32,
   "id": "MmTJ-vdNkueK",
   "metadata": {
    "colab": {
     "base_uri": "https://localhost:8080/"
    },
    "executionInfo": {
     "elapsed": 2528,
     "status": "ok",
     "timestamp": 1628357068580,
     "user": {
      "displayName": "Martin Bernardo Meza",
      "photoUrl": "https://lh3.googleusercontent.com/a-/AOh14GhcQX17rxFbbc2VbakxQOUTg3zDkhKu9KO5Ylq6=s64",
      "userId": "14468399965839794108"
     },
     "user_tz": 180
    },
    "id": "MmTJ-vdNkueK",
    "outputId": "84afb70c-e23a-465c-b547-12748307f3f9"
   },
   "outputs": [
    {
     "name": "stdout",
     "output_type": "stream",
     "text": [
      "rio pos ajor  \n",
      "casto de me encontrar. \n",
      "\n",
      "Fuinzó er la casta a cantar \n",
      "a llevar su canto mejor, \n",
      "en sus dulces since yabe ya tarde cuentas lejesarge lejos \n",
      "de la madrugada te despertaba \n",
      "Dorico te regresaba al anochecer cumpliera. \n",
      "\n",
      "\n",
      "Y a vos te lo diente siempre al pago donde nací, \n",
      "moriré por mal correntino \n",
      "en algún camino del taragüí llevó  \n",
      "tu carita se forme, \n",
      "como un valiente también murió.   \n",
      "\n",
      "\n",
      "Te dijo entonces sobre la muerte  \n",
      "con cuando llegue de nuestra amor. \n",
      "\n",
      "\n",
      "Mi pasecí es mi vida de viajero triste \n",
      "que busca en vano adormecer su pena, \n",
      "por los cuerdos del mi monte te habrá de llamar, \n",
      "oniciera tus manos \n",
      "con alar de tara y día Solo este acuaban  \n",
      "ti cosa gritante vieja en las palmeras  \n",
      "para morirse acá hatá y naranjalera \n",
      "descalza en el arenal. \n",
      "\n",
      "\n",
      "Añoro tus quintas de enfilados naranjales \n",
      "tus chinas maduras quebradas sobre el agua \n",
      "y defiende su libertad. \n",
      "\n",
      "\n",
      "Partir, reir, bogar, soñar, \n",
      "un cigarrito en el andar, \n",
      "y piensa siempre mi correntina \n",
      "que aquí te espera mi corazón. \n",
      "\n",
      "________________________________________________________________________________\n",
      "\n",
      "Run time: 2.825556516647339\n"
     ]
    }
   ],
   "source": [
    "start = time.time()\n",
    "states = None\n",
    "next_char = tf.constant(['rio'])\n",
    "result = [next_char]\n",
    "\n",
    "for n in range(1000):\n",
    "  next_char, states = one_step_model.generate_one_step(next_char, states=states)\n",
    "  result.append(next_char)\n",
    "\n",
    "result = tf.strings.join(result)\n",
    "end = time.time()\n",
    "print(result[0].numpy().decode('utf-8'), '\\n\\n' + '_'*80)\n",
    "print('\\nRun time:', end - start)\n"
   ]
  },
  {
   "cell_type": "code",
   "execution_count": null,
   "id": "eH0L_kRck04N",
   "metadata": {
    "id": "eH0L_kRck04N"
   },
   "outputs": [],
   "source": []
  }
 ],
 "metadata": {
  "accelerator": "GPU",
  "colab": {
   "name": "Tensorflow example.ipynb",
   "provenance": []
  },
  "kernelspec": {
   "display_name": "Python 3 (ipykernel)",
   "language": "python",
   "name": "python3"
  },
  "language_info": {
   "codemirror_mode": {
    "name": "ipython",
    "version": 3
   },
   "file_extension": ".py",
   "mimetype": "text/x-python",
   "name": "python",
   "nbconvert_exporter": "python",
   "pygments_lexer": "ipython3",
   "version": "3.8.10"
  }
 },
 "nbformat": 4,
 "nbformat_minor": 5
}
